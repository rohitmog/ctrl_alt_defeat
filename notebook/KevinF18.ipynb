{
 "cells": [
  {
   "cell_type": "code",
   "execution_count": 1,
   "metadata": {},
   "outputs": [
    {
     "data": {
      "text/html": [
       "<div>\n",
       "<style scoped>\n",
       "    .dataframe tbody tr th:only-of-type {\n",
       "        vertical-align: middle;\n",
       "    }\n",
       "\n",
       "    .dataframe tbody tr th {\n",
       "        vertical-align: top;\n",
       "    }\n",
       "\n",
       "    .dataframe thead th {\n",
       "        text-align: right;\n",
       "    }\n",
       "</style>\n",
       "<table border=\"1\" class=\"dataframe\">\n",
       "  <thead>\n",
       "    <tr style=\"text-align: right;\">\n",
       "      <th></th>\n",
       "      <th>ID Value</th>\n",
       "      <th>Item</th>\n",
       "      <th>Qty</th>\n",
       "      <th>PL</th>\n",
       "      <th>PT</th>\n",
       "      <th>I Disp</th>\n",
       "      <th>Seatblock</th>\n",
       "      <th>Priority Points</th>\n",
       "      <th>Item Cost</th>\n",
       "      <th>Csz</th>\n",
       "      <th>...</th>\n",
       "      <th>Item Name</th>\n",
       "      <th>Degree</th>\n",
       "      <th>ID Type</th>\n",
       "      <th>Primary Degree Institution</th>\n",
       "      <th>Primary Degree Class Year</th>\n",
       "      <th>Primary Degree Education College</th>\n",
       "      <th>Primary Degree Education Status</th>\n",
       "      <th>Primary Address Country</th>\n",
       "      <th>Primary Address State</th>\n",
       "      <th>Primary Address Zip Code</th>\n",
       "    </tr>\n",
       "  </thead>\n",
       "  <tbody>\n",
       "    <tr>\n",
       "      <th>0</th>\n",
       "      <td>477328</td>\n",
       "      <td>F04</td>\n",
       "      <td>2</td>\n",
       "      <td>4</td>\n",
       "      <td>PD</td>\n",
       "      <td>NaN</td>\n",
       "      <td>H2:42:70:W6,C6</td>\n",
       "      <td>992.63</td>\n",
       "      <td>190.00</td>\n",
       "      <td>Ann Arbor, MI  48103</td>\n",
       "      <td>...</td>\n",
       "      <td>Nebraska</td>\n",
       "      <td>A.B.Ed. 1973 School of Education; Teach.Cert. ...</td>\n",
       "      <td>Athletics Ticket ID</td>\n",
       "      <td>University of Michigan - Ann Arbor</td>\n",
       "      <td>1973.0</td>\n",
       "      <td>School of Education</td>\n",
       "      <td>Graduated</td>\n",
       "      <td>United States</td>\n",
       "      <td>Michigan</td>\n",
       "      <td>48103</td>\n",
       "    </tr>\n",
       "    <tr>\n",
       "      <th>1</th>\n",
       "      <td>385061</td>\n",
       "      <td>F02</td>\n",
       "      <td>4</td>\n",
       "      <td>5</td>\n",
       "      <td>TP</td>\n",
       "      <td>E (Email)</td>\n",
       "      <td>1:6:34:4,1</td>\n",
       "      <td>99.98</td>\n",
       "      <td>286.84</td>\n",
       "      <td>Brighton, MI 48114</td>\n",
       "      <td>...</td>\n",
       "      <td>Western Michigan</td>\n",
       "      <td>B.S.E.I.O. 1981 College of Engineering</td>\n",
       "      <td>Athletics Ticket ID</td>\n",
       "      <td>University of Michigan - Ann Arbor</td>\n",
       "      <td>1981.0</td>\n",
       "      <td>College of Engineering</td>\n",
       "      <td>Graduated</td>\n",
       "      <td>United States</td>\n",
       "      <td>Michigan</td>\n",
       "      <td>48114</td>\n",
       "    </tr>\n",
       "    <tr>\n",
       "      <th>2</th>\n",
       "      <td>97056</td>\n",
       "      <td>F06</td>\n",
       "      <td>1</td>\n",
       "      <td>4</td>\n",
       "      <td>TP</td>\n",
       "      <td>E (Email)</td>\n",
       "      <td>1:5:39:4,4</td>\n",
       "      <td>99.92</td>\n",
       "      <td>71.71</td>\n",
       "      <td>Duluth, GA  30096</td>\n",
       "      <td>...</td>\n",
       "      <td>Maryland</td>\n",
       "      <td>B.S. 1998 College of Lit, Science &amp; Arts; B.S....</td>\n",
       "      <td>Athletics Ticket ID</td>\n",
       "      <td>University of Michigan - Ann Arbor</td>\n",
       "      <td>1998.0</td>\n",
       "      <td>College of Lit, Science &amp; Arts</td>\n",
       "      <td>Graduated</td>\n",
       "      <td>United States</td>\n",
       "      <td>Georgia</td>\n",
       "      <td>30096</td>\n",
       "    </tr>\n",
       "    <tr>\n",
       "      <th>3</th>\n",
       "      <td>54539</td>\n",
       "      <td>F06</td>\n",
       "      <td>3</td>\n",
       "      <td>5</td>\n",
       "      <td>PD</td>\n",
       "      <td>M (Mail)</td>\n",
       "      <td>1:9:95:13,15</td>\n",
       "      <td>99.72</td>\n",
       "      <td>237.00</td>\n",
       "      <td>Fenton, MI  48430</td>\n",
       "      <td>...</td>\n",
       "      <td>Maryland</td>\n",
       "      <td>B.S.E.(E.E.) 1971 College of Engineering</td>\n",
       "      <td>Athletics Ticket ID</td>\n",
       "      <td>University of Michigan - Ann Arbor</td>\n",
       "      <td>1971.0</td>\n",
       "      <td>College of Engineering</td>\n",
       "      <td>Graduated</td>\n",
       "      <td>United States</td>\n",
       "      <td>Michigan</td>\n",
       "      <td>48430</td>\n",
       "    </tr>\n",
       "    <tr>\n",
       "      <th>4</th>\n",
       "      <td>46710</td>\n",
       "      <td>F07</td>\n",
       "      <td>4</td>\n",
       "      <td>6</td>\n",
       "      <td>PD</td>\n",
       "      <td>M (Mail)</td>\n",
       "      <td>1:32:87:13,10</td>\n",
       "      <td>99.62</td>\n",
       "      <td>444.00</td>\n",
       "      <td>Green Valley, AZ  85614</td>\n",
       "      <td>...</td>\n",
       "      <td>Wisconsin</td>\n",
       "      <td>B.S.Pharm. 1975 College of Pharmacy</td>\n",
       "      <td>Athletics Ticket ID</td>\n",
       "      <td>University of Michigan - Ann Arbor</td>\n",
       "      <td>1975.0</td>\n",
       "      <td>College of Pharmacy</td>\n",
       "      <td>Graduated</td>\n",
       "      <td>United States</td>\n",
       "      <td>Arizona</td>\n",
       "      <td>85614</td>\n",
       "    </tr>\n",
       "  </tbody>\n",
       "</table>\n",
       "<p>5 rows × 21 columns</p>\n",
       "</div>"
      ],
      "text/plain": [
       "   ID Value Item Qty  PL  PT     I Disp       Seatblock  Priority Points  \\\n",
       "0    477328  F04   2   4  PD        NaN  H2:42:70:W6,C6           992.63   \n",
       "1    385061  F02   4   5  TP  E (Email)      1:6:34:4,1            99.98   \n",
       "2     97056  F06   1   4  TP  E (Email)      1:5:39:4,4            99.92   \n",
       "3     54539  F06   3   5  PD   M (Mail)    1:9:95:13,15            99.72   \n",
       "4     46710  F07   4   6  PD   M (Mail)   1:32:87:13,10            99.62   \n",
       "\n",
       "   Item Cost                     Csz   ...         Item Name  \\\n",
       "0     190.00     Ann Arbor, MI  48103  ...          Nebraska   \n",
       "1     286.84       Brighton, MI 48114  ...  Western Michigan   \n",
       "2      71.71        Duluth, GA  30096  ...          Maryland   \n",
       "3     237.00        Fenton, MI  48430  ...          Maryland   \n",
       "4     444.00  Green Valley, AZ  85614  ...         Wisconsin   \n",
       "\n",
       "                                              Degree              ID Type  \\\n",
       "0  A.B.Ed. 1973 School of Education; Teach.Cert. ...  Athletics Ticket ID   \n",
       "1             B.S.E.I.O. 1981 College of Engineering  Athletics Ticket ID   \n",
       "2  B.S. 1998 College of Lit, Science & Arts; B.S....  Athletics Ticket ID   \n",
       "3           B.S.E.(E.E.) 1971 College of Engineering  Athletics Ticket ID   \n",
       "4                B.S.Pharm. 1975 College of Pharmacy  Athletics Ticket ID   \n",
       "\n",
       "           Primary Degree Institution Primary Degree Class Year  \\\n",
       "0  University of Michigan - Ann Arbor                    1973.0   \n",
       "1  University of Michigan - Ann Arbor                    1981.0   \n",
       "2  University of Michigan - Ann Arbor                    1998.0   \n",
       "3  University of Michigan - Ann Arbor                    1971.0   \n",
       "4  University of Michigan - Ann Arbor                    1975.0   \n",
       "\n",
       "   Primary Degree Education College Primary Degree Education Status  \\\n",
       "0               School of Education                       Graduated   \n",
       "1            College of Engineering                       Graduated   \n",
       "2    College of Lit, Science & Arts                       Graduated   \n",
       "3            College of Engineering                       Graduated   \n",
       "4               College of Pharmacy                       Graduated   \n",
       "\n",
       "  Primary Address Country Primary Address State Primary Address Zip Code  \n",
       "0           United States              Michigan                    48103  \n",
       "1           United States              Michigan                    48114  \n",
       "2           United States               Georgia                    30096  \n",
       "3           United States              Michigan                    48430  \n",
       "4           United States               Arizona                    85614  \n",
       "\n",
       "[5 rows x 21 columns]"
      ]
     },
     "execution_count": 1,
     "metadata": {},
     "output_type": "execute_result"
    }
   ],
   "source": [
    "import pandas as pd\n",
    "import numpy as np\n",
    "\n",
    "f19_sales = pd.read_csv('../data/F19Sales.csv')\n",
    "f18_sales = pd.read_csv('../data/F18Sales.csv')\n",
    "f17_sales = pd.read_csv('../data/F17Sales.csv')\n",
    "f16_sales = pd.read_csv('../data/F16Sales.csv')\n",
    "f15_sales = pd.read_csv('../data/F15Sales.csv')\n",
    "\n",
    "sales = f18_sales\n",
    "sales.rename(columns = {'Customer ID':'ID Value'}, inplace = True)\n",
    "\n",
    "alum = pd.read_csv('../data/AlumniReport.csv')\n",
    "\n",
    "merge = pd.merge(left=sales, right=alum, on=['ID Value'])\n",
    "\n",
    "merge.head()"
   ]
  },
  {
   "cell_type": "code",
   "execution_count": 2,
   "metadata": {},
   "outputs": [
    {
     "data": {
      "text/plain": [
       "128888"
      ]
     },
     "execution_count": 2,
     "metadata": {},
     "output_type": "execute_result"
    }
   ],
   "source": [
    "total_tickets_sold = 0\n",
    "for qty in sales['Qty']:\n",
    "    qty = qty.replace(',', '')\n",
    "    total_tickets_sold += int(qty)\n",
    "\n",
    "# Total number of tickets sold\n",
    "total_tickets_sold"
   ]
  },
  {
   "cell_type": "code",
   "execution_count": 3,
   "metadata": {},
   "outputs": [
    {
     "name": "stdout",
     "output_type": "stream",
     "text": [
      "12111\n"
     ]
    },
    {
     "data": {
      "text/plain": [
       "0.09396530320898765"
      ]
     },
     "execution_count": 3,
     "metadata": {},
     "output_type": "execute_result"
    }
   ],
   "source": [
    "# Find a alum grad. year for every ticket sold\n",
    "sales_graduation_years = []\n",
    "for i, year in enumerate(merge['Primary Degree Class Year']):\n",
    "    for _ in range(int(merge['Qty'][i])):\n",
    "        sales_graduation_years.append(int(year))\n",
    "\n",
    "# Number of alum tickets sold\n",
    "print(len(sales_graduation_years))\n",
    "\n",
    "# Prop of tickets sold to alum\n",
    "len(sales_graduation_years) / total_tickets_sold"
   ]
  },
  {
   "cell_type": "code",
   "execution_count": 4,
   "metadata": {},
   "outputs": [
    {
     "name": "stdout",
     "output_type": "stream",
     "text": [
      "9706193.379999999\n",
      "970143.71\n"
     ]
    },
    {
     "data": {
      "text/plain": [
       "0.09995099747332667"
      ]
     },
     "execution_count": 4,
     "metadata": {},
     "output_type": "execute_result"
    }
   ],
   "source": [
    "# Find total money spent on tickets\n",
    "total_money_spent = np.sum(sales['Item Cost'])\n",
    "print(total_money_spent)\n",
    "\n",
    "# Find total money spent on tickets by alumni\n",
    "total_money_spent_alum = np.sum(merge['Item Cost'])\n",
    "print(total_money_spent_alum)\n",
    "\n",
    "# Prop of revenue generated by alum\n",
    "total_money_spent_alum / total_money_spent\n"
   ]
  },
  {
   "cell_type": "code",
   "execution_count": 12,
   "metadata": {},
   "outputs": [
    {
     "name": "stdout",
     "output_type": "stream",
     "text": [
      "1.0637011115797315\n"
     ]
    }
   ],
   "source": [
    "# Alum buy 10.87% of all tickets, but generate 12.44% of all revenue\n",
    "\n",
    "# Takeaway: Alumni spent about (12.44/10.87) = 1.1450 times more on tickets than the general public\n",
    "\n",
    "# Alumni are more willing to spend money on FB tix\n",
    "\n",
    "print((total_money_spent_alum / total_money_spent) / (len(sales_graduation_years) / total_tickets_sold))"
   ]
  },
  {
   "cell_type": "code",
   "execution_count": 6,
   "metadata": {
    "scrolled": true
   },
   "outputs": [
    {
     "data": {
      "text/plain": [
       "Text(0.5, 0, 'Graduation Year')"
      ]
     },
     "execution_count": 6,
     "metadata": {},
     "output_type": "execute_result"
    },
    {
     "data": {
      "image/png": "[encoded data removed]",
      "text/plain": [
       "<Figure size 432x288 with 1 Axes>"
      ]
     },
     "metadata": {
      "needs_background": "light"
     },
     "output_type": "display_data"
    }
   ],
   "source": [
    "import matplotlib.pyplot as plt\n",
    "\n",
    "# Clean data, remove any years below 1900\n",
    "while np.min(sales_graduation_years) < 1900:\n",
    "    sales_graduation_years.remove(np.min(sales_graduation_years))\n",
    "\n",
    "BIN_SIZE = 5    \n",
    "\n",
    "bins = np.arange(1940,2020,BIN_SIZE)\n",
    "\n",
    "# Look at alum that bought tickets based on grad year\n",
    "plt.hist(x=sales_graduation_years, bins=bins, edgecolor='black')\n",
    "plt.title(f'Number of Tickets Sold by Alumni Graduation Year (Bin Size={BIN_SIZE})')\n",
    "plt.ylabel('Ticket Sales Quantity')\n",
    "plt.xlabel('Graduation Year')\n",
    "# plt.axis([1800, 2020, 0, 20000])"
   ]
  },
  {
   "cell_type": "code",
   "execution_count": 7,
   "metadata": {},
   "outputs": [
    {
     "data": {
      "text/plain": [
       "Text(0.5, 0, 'Estimated Age (based on graduation at 21)')"
      ]
     },
     "execution_count": 7,
     "metadata": {},
     "output_type": "execute_result"
    },
    {
     "data": {
      "image/png": "[encoded data removed]",
      "text/plain": [
       "<Figure size 432x288 with 1 Axes>"
      ]
     },
     "metadata": {
      "needs_background": "light"
     },
     "output_type": "display_data"
    }
   ],
   "source": [
    "# Estimate ages\n",
    "\n",
    "AGE_OF_GRAD = 21\n",
    "\n",
    "bins = np.arange(20, 80, BIN_SIZE)\n",
    "ages = []\n",
    "for year in sales_graduation_years:\n",
    "    ages.append(2020 - (year - AGE_OF_GRAD))\n",
    "\n",
    "plt.hist(x=ages, bins=bins, edgecolor='black')\n",
    "plt.title(f'Number of Tickets Sold by Alumni Age (Bin Size={BIN_SIZE})')\n",
    "plt.ylabel('Ticket Sales Quantity')\n",
    "plt.xlabel('Estimated Age (based on graduation at 21)')\n"
   ]
  },
  {
   "cell_type": "code",
   "execution_count": 8,
   "metadata": {},
   "outputs": [
    {
     "data": {
      "text/plain": [
       "Text(0.5, 0, 'Graduation Year')"
      ]
     },
     "execution_count": 8,
     "metadata": {},
     "output_type": "execute_result"
    },
    {
     "data": {
      "image/png": "[encoded data removed]",
      "text/plain": [
       "<Figure size 432x288 with 1 Axes>"
      ]
     },
     "metadata": {
      "needs_background": "light"
     },
     "output_type": "display_data"
    }
   ],
   "source": [
    "from collections import defaultdict\n",
    "\n",
    "# Find total dollars spent by alumni by grad. year\n",
    "rev_per_year = defaultdict(int)\n",
    "\n",
    "for i, year in enumerate(merge['Primary Degree Class Year']):\n",
    "    if year > 1900:\n",
    "        rev_per_year[year] += merge['Item Cost'][i]\n",
    "    \n",
    "    \n",
    "rpy = dict(sorted(rev_per_year.items()))\n",
    "rpy\n",
    "# 1958.0: 2421.62\n",
    "#list(rev_per_year.keys())\n",
    "# list(rev_per_year.values())\n",
    "\n",
    "years = list(rpy.keys())\n",
    "values = list(rpy.values())\n",
    "\n",
    "plt.bar(years, values, align='center')\n",
    "plt.title('Dollars Spent on Tickets by Alumni Graduation Year')\n",
    "plt.ylabel('Total Dollar Value of Tickets Sold')\n",
    "plt.xlabel('Graduation Year')"
   ]
  },
  {
   "cell_type": "code",
   "execution_count": 9,
   "metadata": {},
   "outputs": [
    {
     "data": {
      "text/plain": [
       "Text(0.5, 0, 'Estimated Age (based on graduation at 21)')"
      ]
     },
     "execution_count": 9,
     "metadata": {},
     "output_type": "execute_result"
    },
    {
     "data": {
      "image/png": "[encoded data removed]",
      "text/plain": [
       "<Figure size 432x288 with 1 Axes>"
      ]
     },
     "metadata": {
      "needs_background": "light"
     },
     "output_type": "display_data"
    }
   ],
   "source": [
    "ages = []\n",
    "for year in years:\n",
    "    ages.append(2020 - (year - AGE_OF_GRAD))\n",
    "    \n",
    "plt.bar(ages, values, align='center')\n",
    "plt.title('Dollars Spent on Tickets by Alumni Age')\n",
    "plt.ylabel('Total Dollar Value of Tickets Sold')\n",
    "plt.xlabel('Estimated Age (based on graduation at 21)')"
   ]
  },
  {
   "cell_type": "code",
   "execution_count": 10,
   "metadata": {},
   "outputs": [
    {
     "data": {
      "text/plain": [
       "Text(0.5, 0, 'Graduation Year')"
      ]
     },
     "execution_count": 10,
     "metadata": {},
     "output_type": "execute_result"
    },
    {
     "data": {
      "image/png": "[encoded data removed]",
      "text/plain": [
       "<Figure size 432x288 with 1 Axes>"
      ]
     },
     "metadata": {
      "needs_background": "light"
     },
     "output_type": "display_data"
    }
   ],
   "source": [
    "# Bin total dollars spent on tickets\n",
    "BIN_SIZE = 5\n",
    "\n",
    "rev_per_bin = defaultdict(int)\n",
    "\n",
    "current_bin = 1940\n",
    "\n",
    "# rev_per_bin[1940] represents all tickets sold from 1940 to (1940 + BIN_SIZE)\n",
    "for year in range(1940, 2020):\n",
    "    rev_per_bin[current_bin] += rev_per_year[year]\n",
    "    if year > current_bin:\n",
    "        current_bin += BIN_SIZE\n",
    "        \n",
    "\n",
    "years = list(rev_per_bin.keys())\n",
    "values = list(rev_per_bin.values())\n",
    "\n",
    "plt.bar(years, values, align='edge', width=5, edgecolor='black')\n",
    "plt.title(f'Dollars Spent on Tickets by Alumni Graduation Year (Bin Size={BIN_SIZE})')\n",
    "plt.ylabel('Total Dollar Value of Tickets Sold')\n",
    "plt.xlabel('Graduation Year')"
   ]
  },
  {
   "cell_type": "code",
   "execution_count": 11,
   "metadata": {},
   "outputs": [
    {
     "data": {
      "text/plain": [
       "Text(0.5, 0, 'Estimated Age (based on graduation at 21)')"
      ]
     },
     "execution_count": 11,
     "metadata": {},
     "output_type": "execute_result"
    },
    {
     "data": {
      "image/png": "[encoded data removed]",
      "text/plain": [
       "<Figure size 432x288 with 1 Axes>"
      ]
     },
     "metadata": {
      "needs_background": "light"
     },
     "output_type": "display_data"
    }
   ],
   "source": [
    "rev_per_bin_age = defaultdict(int)\n",
    "\n",
    "current_bin = 20\n",
    "\n",
    "# rev_per_bin[20] represents all tickets sold to alumni age 20 to (20 + BIN_SIZE)\n",
    "for year in range(2020, 1940, -1):\n",
    "    age = (2020 - (year - AGE_OF_GRAD))\n",
    "    rev_per_bin_age[current_bin] += rev_per_year[year]\n",
    "    if age > current_bin:\n",
    "        current_bin += BIN_SIZE\n",
    "\n",
    "\n",
    "ages = list(rev_per_bin_age.keys())\n",
    "values = list(rev_per_bin_age.values())\n",
    "\n",
    "plt.bar(ages, values, align='edge', width=5, edgecolor='black')\n",
    "plt.title(f'Dollars Alumni Spent on Tickets by Age (Bin Size={BIN_SIZE})')\n",
    "plt.ylabel('Total Dollar Value of Tickets Sold')\n",
    "plt.xlabel('Estimated Age (based on graduation at 21)')"
   ]
  },
  {
   "cell_type": "code",
   "execution_count": null,
   "metadata": {},
   "outputs": [],
   "source": []
  }
 ],
 "metadata": {
  "kernelspec": {
   "display_name": "Python 3",
   "language": "python",
   "name": "python3"
  },
  "language_info": {
   "codemirror_mode": {
    "name": "ipython",
    "version": 3
   },
   "file_extension": ".py",
   "mimetype": "text/x-python",
   "name": "python",
   "nbconvert_exporter": "python",
   "pygments_lexer": "ipython3",
   "version": "3.7.5"
  },
  "toc": {
   "base_numbering": 1,
   "nav_menu": {},
   "number_sections": true,
   "sideBar": true,
   "skip_h1_title": false,
   "title_cell": "Table of Contents",
   "title_sidebar": "Contents",
   "toc_cell": false,
   "toc_position": {},
   "toc_section_display": true,
   "toc_window_display": false
  }
 },
 "nbformat": 4,
 "nbformat_minor": 2
}
