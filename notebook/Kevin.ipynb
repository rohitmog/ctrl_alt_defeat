{
 "cells": [
  {
   "cell_type": "markdown",
   "metadata": {},
   "source": [
    "# Ross Datathon: Football Ticket Sales Analysis"
   ]
  },
  {
   "cell_type": "markdown",
   "metadata": {},
   "source": [
    "## What is the question that your team set out to answer?"
   ]
  },
  {
   "cell_type": "markdown",
   "metadata": {},
   "source": [
    "### Our team set out to answer \"Which major groups should we target marketing efforts on?\""
   ]
  },
  {
   "cell_type": "markdown",
   "metadata": {},
   "source": [
    "### We started by hypothesizing that alumni are more willing to buy football tickets than the general public.\n",
    "\n",
    "### We had a hunch alumni might be more willing to buy football tickets than the general public:\n",
    "\n",
    "### According to the [NY Times](https://www.nytimes.com/interactive/projects/college-mobility/university-of-michigan-ann-arbor), in 2017, Michigan graduates had a median income of $68,700.\n",
    "\n",
    "### In contrast, according to [US Census ACS survey](https://www.deptofnumbers.com/income/michigan/), Michigan residents had a median income of $30,488.\n",
    "\n",
    "## The main takeway from this comparison is that Michigan alumni have <u>a lot</u> more disposable income."
   ]
  },
  {
   "cell_type": "markdown",
   "metadata": {},
   "source": [
    "## In the next section, we investigate our hypothesis:\n",
    "\n",
    "### Since we had sales data for the 2015-2019 football seasons, alumni data, and a unique ID for each buyer/alumni, we merge these two data sets by ID below:"
   ]
  },
  {
   "cell_type": "code",
   "execution_count": 1,
   "metadata": {},
   "outputs": [
    {
     "data": {
      "text/html": [
       "<div>\n",
       "<style scoped>\n",
       "    .dataframe tbody tr th:only-of-type {\n",
       "        vertical-align: middle;\n",
       "    }\n",
       "\n",
       "    .dataframe tbody tr th {\n",
       "        vertical-align: top;\n",
       "    }\n",
       "\n",
       "    .dataframe thead th {\n",
       "        text-align: right;\n",
       "    }\n",
       "</style>\n",
       "<table border=\"1\" class=\"dataframe\">\n",
       "  <thead>\n",
       "    <tr style=\"text-align: right;\">\n",
       "      <th></th>\n",
       "      <th>ID Value</th>\n",
       "      <th>Item</th>\n",
       "      <th>Qty</th>\n",
       "      <th>PL</th>\n",
       "      <th>PT</th>\n",
       "      <th>I Disp</th>\n",
       "      <th>Seatblock</th>\n",
       "      <th>Priority Points</th>\n",
       "      <th>Item Cost</th>\n",
       "      <th>Csz</th>\n",
       "      <th>...</th>\n",
       "      <th>Item Name</th>\n",
       "      <th>Degree</th>\n",
       "      <th>ID Type</th>\n",
       "      <th>Primary Degree Institution</th>\n",
       "      <th>Primary Degree Class Year</th>\n",
       "      <th>Primary Degree Education College</th>\n",
       "      <th>Primary Degree Education Status</th>\n",
       "      <th>Primary Address Country</th>\n",
       "      <th>Primary Address State</th>\n",
       "      <th>Primary Address Zip Code</th>\n",
       "    </tr>\n",
       "  </thead>\n",
       "  <tbody>\n",
       "    <tr>\n",
       "      <th>0</th>\n",
       "      <td>122853</td>\n",
       "      <td>F02</td>\n",
       "      <td>2</td>\n",
       "      <td>1</td>\n",
       "      <td>PD</td>\n",
       "      <td>M (Mail)</td>\n",
       "      <td>1:23:40:26,25</td>\n",
       "      <td>999.13</td>\n",
       "      <td>200.0</td>\n",
       "      <td>Frisco, TX  75034</td>\n",
       "      <td>...</td>\n",
       "      <td>Oregon State</td>\n",
       "      <td>B.S.E.(E.E.) 1966 College of Engineering</td>\n",
       "      <td>Athletics Ticket ID</td>\n",
       "      <td>University of Michigan - Ann Arbor</td>\n",
       "      <td>1966.0</td>\n",
       "      <td>College of Engineering</td>\n",
       "      <td>Graduated</td>\n",
       "      <td>United States</td>\n",
       "      <td>Texas</td>\n",
       "      <td>75034</td>\n",
       "    </tr>\n",
       "    <tr>\n",
       "      <th>1</th>\n",
       "      <td>122853</td>\n",
       "      <td>F03</td>\n",
       "      <td>2</td>\n",
       "      <td>1</td>\n",
       "      <td>PD</td>\n",
       "      <td>S (Special Handling Required)</td>\n",
       "      <td>1:23:40:4,3</td>\n",
       "      <td>999.13</td>\n",
       "      <td>230.0</td>\n",
       "      <td>Frisco, TX  75034</td>\n",
       "      <td>...</td>\n",
       "      <td>Colorado</td>\n",
       "      <td>B.S.E.(E.E.) 1966 College of Engineering</td>\n",
       "      <td>Athletics Ticket ID</td>\n",
       "      <td>University of Michigan - Ann Arbor</td>\n",
       "      <td>1966.0</td>\n",
       "      <td>College of Engineering</td>\n",
       "      <td>Graduated</td>\n",
       "      <td>United States</td>\n",
       "      <td>Texas</td>\n",
       "      <td>75034</td>\n",
       "    </tr>\n",
       "    <tr>\n",
       "      <th>2</th>\n",
       "      <td>122853</td>\n",
       "      <td>F03</td>\n",
       "      <td>4</td>\n",
       "      <td>1</td>\n",
       "      <td>PD</td>\n",
       "      <td>M (Mail)</td>\n",
       "      <td>1:23:35:22,21 1:23:34:22,21</td>\n",
       "      <td>999.13</td>\n",
       "      <td>460.0</td>\n",
       "      <td>Frisco, TX  75034</td>\n",
       "      <td>...</td>\n",
       "      <td>Colorado</td>\n",
       "      <td>B.S.E.(E.E.) 1966 College of Engineering</td>\n",
       "      <td>Athletics Ticket ID</td>\n",
       "      <td>University of Michigan - Ann Arbor</td>\n",
       "      <td>1966.0</td>\n",
       "      <td>College of Engineering</td>\n",
       "      <td>Graduated</td>\n",
       "      <td>United States</td>\n",
       "      <td>Texas</td>\n",
       "      <td>75034</td>\n",
       "    </tr>\n",
       "    <tr>\n",
       "      <th>3</th>\n",
       "      <td>122853</td>\n",
       "      <td>F05</td>\n",
       "      <td>2</td>\n",
       "      <td>1</td>\n",
       "      <td>PD</td>\n",
       "      <td>M (Mail)</td>\n",
       "      <td>1:22:21:2,1</td>\n",
       "      <td>999.13</td>\n",
       "      <td>310.0</td>\n",
       "      <td>Frisco, TX  75034</td>\n",
       "      <td>...</td>\n",
       "      <td>Michigan State</td>\n",
       "      <td>B.S.E.(E.E.) 1966 College of Engineering</td>\n",
       "      <td>Athletics Ticket ID</td>\n",
       "      <td>University of Michigan - Ann Arbor</td>\n",
       "      <td>1966.0</td>\n",
       "      <td>College of Engineering</td>\n",
       "      <td>Graduated</td>\n",
       "      <td>United States</td>\n",
       "      <td>Texas</td>\n",
       "      <td>75034</td>\n",
       "    </tr>\n",
       "    <tr>\n",
       "      <th>4</th>\n",
       "      <td>122853</td>\n",
       "      <td>F12</td>\n",
       "      <td>2</td>\n",
       "      <td>1</td>\n",
       "      <td>PD</td>\n",
       "      <td>M (Mail)</td>\n",
       "      <td>1:22:21:2,1</td>\n",
       "      <td>999.13</td>\n",
       "      <td>310.0</td>\n",
       "      <td>Frisco, TX  75034</td>\n",
       "      <td>...</td>\n",
       "      <td>Ohio State</td>\n",
       "      <td>B.S.E.(E.E.) 1966 College of Engineering</td>\n",
       "      <td>Athletics Ticket ID</td>\n",
       "      <td>University of Michigan - Ann Arbor</td>\n",
       "      <td>1966.0</td>\n",
       "      <td>College of Engineering</td>\n",
       "      <td>Graduated</td>\n",
       "      <td>United States</td>\n",
       "      <td>Texas</td>\n",
       "      <td>75034</td>\n",
       "    </tr>\n",
       "  </tbody>\n",
       "</table>\n",
       "<p>5 rows × 21 columns</p>\n",
       "</div>"
      ],
      "text/plain": [
       "   ID Value Item Qty  PL  PT                         I Disp  \\\n",
       "0    122853  F02   2   1  PD                       M (Mail)   \n",
       "1    122853  F03   2   1  PD  S (Special Handling Required)   \n",
       "2    122853  F03   4   1  PD                       M (Mail)   \n",
       "3    122853  F05   2   1  PD                       M (Mail)   \n",
       "4    122853  F12   2   1  PD                       M (Mail)   \n",
       "\n",
       "                     Seatblock  Priority Points  Item Cost               Csz   \\\n",
       "0                1:23:40:26,25           999.13      200.0  Frisco, TX  75034   \n",
       "1                  1:23:40:4,3           999.13      230.0  Frisco, TX  75034   \n",
       "2  1:23:35:22,21 1:23:34:22,21           999.13      460.0  Frisco, TX  75034   \n",
       "3                  1:22:21:2,1           999.13      310.0  Frisco, TX  75034   \n",
       "4                  1:22:21:2,1           999.13      310.0  Frisco, TX  75034   \n",
       "\n",
       "   ...       Item Name                                    Degree  \\\n",
       "0  ...    Oregon State  B.S.E.(E.E.) 1966 College of Engineering   \n",
       "1  ...        Colorado  B.S.E.(E.E.) 1966 College of Engineering   \n",
       "2  ...        Colorado  B.S.E.(E.E.) 1966 College of Engineering   \n",
       "3  ...  Michigan State  B.S.E.(E.E.) 1966 College of Engineering   \n",
       "4  ...      Ohio State  B.S.E.(E.E.) 1966 College of Engineering   \n",
       "\n",
       "               ID Type          Primary Degree Institution  \\\n",
       "0  Athletics Ticket ID  University of Michigan - Ann Arbor   \n",
       "1  Athletics Ticket ID  University of Michigan - Ann Arbor   \n",
       "2  Athletics Ticket ID  University of Michigan - Ann Arbor   \n",
       "3  Athletics Ticket ID  University of Michigan - Ann Arbor   \n",
       "4  Athletics Ticket ID  University of Michigan - Ann Arbor   \n",
       "\n",
       "  Primary Degree Class Year  Primary Degree Education College  \\\n",
       "0                    1966.0            College of Engineering   \n",
       "1                    1966.0            College of Engineering   \n",
       "2                    1966.0            College of Engineering   \n",
       "3                    1966.0            College of Engineering   \n",
       "4                    1966.0            College of Engineering   \n",
       "\n",
       "  Primary Degree Education Status Primary Address Country  \\\n",
       "0                       Graduated           United States   \n",
       "1                       Graduated           United States   \n",
       "2                       Graduated           United States   \n",
       "3                       Graduated           United States   \n",
       "4                       Graduated           United States   \n",
       "\n",
       "  Primary Address State Primary Address Zip Code  \n",
       "0                 Texas                    75034  \n",
       "1                 Texas                    75034  \n",
       "2                 Texas                    75034  \n",
       "3                 Texas                    75034  \n",
       "4                 Texas                    75034  \n",
       "\n",
       "[5 rows x 21 columns]"
      ]
     },
     "execution_count": 1,
     "metadata": {},
     "output_type": "execute_result"
    }
   ],
   "source": [
    "import pandas as pd\n",
    "import numpy as np\n",
    "\n",
    "f19_sales = pd.read_csv('../data/F19Sales.csv')\n",
    "f18_sales = pd.read_csv('../data/F18Sales.csv')\n",
    "f17_sales = pd.read_csv('../data/F17Sales.csv')\n",
    "f16_sales = pd.read_csv('../data/F16Sales.csv')\n",
    "f15_sales = pd.read_csv('../data/F15Sales.csv')\n",
    "\n",
    "sales = pd.concat([f15_sales, f16_sales, f17_sales, f18_sales, f19_sales])\n",
    "sales.rename(columns = {'Customer ID':'ID Value'}, inplace = True)\n",
    "\n",
    "alum = pd.read_csv('../data/AlumniReport.csv')\n",
    "\n",
    "merge = pd.merge(left=sales, right=alum, on=['ID Value'])\n",
    "\n",
    "merge.head()"
   ]
  },
  {
   "cell_type": "markdown",
   "metadata": {},
   "source": [
    "## We want to investigate what percent of non-student tickets that alumni buy.\n",
    "\n",
    "### First, we calculated the total number of football tickets sold.\n",
    "\n",
    "### We see that the total number of football tickets sold from 2015 to 2019 was <u>905,782</u> tickets."
   ]
  },
  {
   "cell_type": "code",
   "execution_count": 2,
   "metadata": {},
   "outputs": [
    {
     "name": "stdout",
     "output_type": "stream",
     "text": [
      "905782\n"
     ]
    }
   ],
   "source": [
    "total_tickets_sold = 0\n",
    "for qty in sales['Qty']:\n",
    "    qty = qty.replace(',', '')\n",
    "    total_tickets_sold += int(qty)\n",
    "\n",
    "# Total number of tickets sold\n",
    "print(total_tickets_sold)"
   ]
  },
  {
   "cell_type": "markdown",
   "metadata": {},
   "source": [
    "### Next we calculate the total number of football tickets sold to alumni. \n",
    "\n",
    "### We see the that total number of football tickets sold to alumni from 2015 to 2019 was <u>100,955</u> tickets."
   ]
  },
  {
   "cell_type": "code",
   "execution_count": 3,
   "metadata": {},
   "outputs": [
    {
     "name": "stdout",
     "output_type": "stream",
     "text": [
      "100955\n"
     ]
    }
   ],
   "source": [
    "# Find a alum grad. year for every ticket sold\n",
    "sales_graduation_years = []\n",
    "for i, year in enumerate(merge['Primary Degree Class Year']):\n",
    "    for _ in range(int(merge['Qty'][i])):\n",
    "        sales_graduation_years.append(int(year))\n",
    "\n",
    "# Number of alum tickets sold\n",
    "print(len(sales_graduation_years))"
   ]
  },
  {
   "cell_type": "markdown",
   "metadata": {},
   "source": [
    "### Using the previous two cells, we calculate the proporation of tickets sold to alumni out of all tickets sold.\n",
    "\n",
    "### We find that alumni buy about <u>11.15%</u> of all non-student tickets sold."
   ]
  },
  {
   "cell_type": "code",
   "execution_count": 4,
   "metadata": {},
   "outputs": [
    {
     "name": "stdout",
     "output_type": "stream",
     "text": [
      "0.1114561781974029\n"
     ]
    }
   ],
   "source": [
    "# Prop of tickets sold to alum\n",
    "prop_tix_sold_to_alum = (len(sales_graduation_years) / total_tickets_sold)"
   ]
  },
  {
   "cell_type": "markdown",
   "metadata": {},
   "source": [
    "## Next, we want to investigate the percent of non-student ticket revenue that alumni generate.\n",
    "\n",
    "### First, we calculate the total dollar amount spent on football tickets from 2015-2019. \n",
    "\n",
    "### We see the that total dollar amount spent on football tickets 2015 to 2019 was <u>$67,823,494.61</u>."
   ]
  },
  {
   "cell_type": "code",
   "execution_count": 5,
   "metadata": {},
   "outputs": [
    {
     "name": "stdout",
     "output_type": "stream",
     "text": [
      "67823494.61999999\n"
     ]
    }
   ],
   "source": [
    "# Find total money spent on tickets\n",
    "total_money_spent = np.sum(sales['Item Cost'])\n",
    "print(total_money_spent)"
   ]
  },
  {
   "cell_type": "markdown",
   "metadata": {},
   "source": [
    "### Next, we calculate the total dollar amount alumni spent on football tickets from 2015-2019. \n",
    "\n",
    "### We see the that total dollar amount alumni spent on football tickets 2015 to 2019 was <u>$8,518,062.99</u>."
   ]
  },
  {
   "cell_type": "code",
   "execution_count": 6,
   "metadata": {},
   "outputs": [
    {
     "name": "stdout",
     "output_type": "stream",
     "text": [
      "8518062.99\n"
     ]
    }
   ],
   "source": [
    "# Find total money spent on tickets by alumni\n",
    "total_money_spent_alum = np.sum(merge['Item Cost'])\n",
    "print(total_money_spent_alum)"
   ]
  },
  {
   "cell_type": "markdown",
   "metadata": {},
   "source": [
    "### Using the previous two cells, we calculate the proporation of revenue generated by alumni out of total non-student ticket revenue.\n",
    "\n",
    "### We find that alumni generate about <u>12.56%</u> of all revenue generated by non-student tickets."
   ]
  },
  {
   "cell_type": "code",
   "execution_count": 9,
   "metadata": {},
   "outputs": [
    {
     "name": "stdout",
     "output_type": "stream",
     "text": [
      "0.12559162629004625\n"
     ]
    }
   ],
   "source": [
    "# Prop of revenue generated by alum\n",
    "prop_rev_gen_by_alum = total_money_spent_alum / total_money_spent\n",
    "print(prop_rev_gen_by_alum)"
   ]
  },
  {
   "cell_type": "markdown",
   "metadata": {},
   "source": [
    "## Using the percent non-student tickets that were bought by alumni and the percent of non-student revenue that was generated by alumni, we can calculate how much more alumni spend on tickets versus the general public.\n",
    "\n",
    "### Recall that alumni buy about <u>11.15%</u> of all non-student tickets sold and generate about <u>12.56%</u> of all revenue generated by non-student tickets.\n",
    "\n",
    "### $\\frac{12.56\\%}{11.15\\%} = 1.13$\n",
    "\n",
    "## Takeaway: On average, alumni spend about <u>1.13x</u> more on non-student football tickets than the general public.\n",
    "\n",
    "## Overall, alumni are more willing to spend money on football tickets than the general public."
   ]
  },
  {
   "cell_type": "code",
   "execution_count": 5,
   "metadata": {},
   "outputs": [
    {
     "name": "stdout",
     "output_type": "stream",
     "text": [
      "1.126825164125112\n"
     ]
    }
   ],
   "source": [
    "print((total_money_spent_alum / total_money_spent) / (len(sales_graduation_years) / total_tickets_sold))"
   ]
  },
  {
   "cell_type": "code",
   "execution_count": 6,
   "metadata": {
    "scrolled": true
   },
   "outputs": [
    {
     "data": {
      "text/plain": [
       "Text(0.5, 0, 'Graduation Year')"
      ]
     },
     "execution_count": 6,
     "metadata": {},
     "output_type": "execute_result"
    },
    {
     "data": {
      "image/png": "[encoded data removed]",
      "text/plain": [
       "<Figure size 432x288 with 1 Axes>"
      ]
     },
     "metadata": {
      "needs_background": "light"
     },
     "output_type": "display_data"
    }
   ],
   "source": [
    "import matplotlib.pyplot as plt\n",
    "\n",
    "# Clean data, remove any years below 1900\n",
    "while np.min(sales_graduation_years) < 1900:\n",
    "    sales_graduation_years.remove(np.min(sales_graduation_years))\n",
    "\n",
    "BIN_SIZE = 10  \n",
    "\n",
    "bins = np.arange(1940,2020,BIN_SIZE)\n",
    "\n",
    "# Look at alum that bought tickets based on grad year\n",
    "plt.hist(x=sales_graduation_years, bins=bins, edgecolor='black')\n",
    "plt.title(f'Number of Tickets Sold by Alumni Graduation Year (Bin Size={BIN_SIZE})')\n",
    "plt.ylabel('Ticket Sales Quantity')\n",
    "plt.xlabel('Graduation Year')\n",
    "# plt.axis([1800, 2020, 0, 20000])"
   ]
  },
  {
   "cell_type": "code",
   "execution_count": 7,
   "metadata": {},
   "outputs": [
    {
     "data": {
      "text/plain": [
       "Text(0.5, 0, 'Estimated Age (based on graduation at 21)')"
      ]
     },
     "execution_count": 7,
     "metadata": {},
     "output_type": "execute_result"
    },
    {
     "data": {
      "image/png": "[encoded data removed]",
      "text/plain": [
       "<Figure size 432x288 with 1 Axes>"
      ]
     },
     "metadata": {
      "needs_background": "light"
     },
     "output_type": "display_data"
    }
   ],
   "source": [
    "# Estimate ages\n",
    "\n",
    "AGE_OF_GRAD = 21\n",
    "\n",
    "bins = np.arange(20, 80, BIN_SIZE)\n",
    "ages = []\n",
    "for year in sales_graduation_years:\n",
    "    ages.append(2020 - (year - AGE_OF_GRAD))\n",
    "\n",
    "plt.hist(x=ages, bins=bins, edgecolor='black')\n",
    "plt.title(f'Number of Tickets Sold by Alumni Age (Bin Size={BIN_SIZE})')\n",
    "plt.ylabel('Ticket Sales Quantity')\n",
    "plt.xlabel('Estimated Age (based on graduation at 21)')\n"
   ]
  },
  {
   "cell_type": "code",
   "execution_count": 8,
   "metadata": {},
   "outputs": [
    {
     "data": {
      "text/plain": [
       "Text(0.5, 0, 'Graduation Year')"
      ]
     },
     "execution_count": 8,
     "metadata": {},
     "output_type": "execute_result"
    },
    {
     "data": {
      "image/png": "[encoded data removed]",
      "text/plain": [
       "<Figure size 432x288 with 1 Axes>"
      ]
     },
     "metadata": {
      "needs_background": "light"
     },
     "output_type": "display_data"
    }
   ],
   "source": [
    "from collections import defaultdict\n",
    "\n",
    "# Find total dollars spent by alumni by grad. year\n",
    "rev_per_year = defaultdict(int)\n",
    "\n",
    "for i, year in enumerate(merge['Primary Degree Class Year']):\n",
    "    if year > 1900:\n",
    "        rev_per_year[year] += merge['Item Cost'][i]\n",
    "    \n",
    "    \n",
    "rpy = dict(sorted(rev_per_year.items()))\n",
    "rpy\n",
    "# 1958.0: 2421.62\n",
    "#list(rev_per_year.keys())\n",
    "# list(rev_per_year.values())\n",
    "\n",
    "years = list(rpy.keys())\n",
    "values = list(rpy.values())\n",
    "\n",
    "plt.bar(years, values, align='center')\n",
    "plt.title('Dollars Spent on Tickets by Alumni Graduation Year')\n",
    "plt.ylabel('Total Dollar Value of Tickets Sold')\n",
    "plt.xlabel('Graduation Year')"
   ]
  },
  {
   "cell_type": "code",
   "execution_count": 9,
   "metadata": {},
   "outputs": [
    {
     "data": {
      "text/plain": [
       "Text(0.5, 0, 'Estimated Age (based on graduation at 21)')"
      ]
     },
     "execution_count": 9,
     "metadata": {},
     "output_type": "execute_result"
    },
    {
     "data": {
      "image/png": "[encoded data removed]",
      "text/plain": [
       "<Figure size 432x288 with 1 Axes>"
      ]
     },
     "metadata": {
      "needs_background": "light"
     },
     "output_type": "display_data"
    }
   ],
   "source": [
    "ages = []\n",
    "for year in years:\n",
    "    ages.append(2020 - (year - AGE_OF_GRAD))\n",
    "    \n",
    "plt.bar(ages, values, align='center')\n",
    "plt.title('Dollars Spent on Tickets by Alumni Age')\n",
    "plt.ylabel('Total Dollar Value of Tickets Sold')\n",
    "plt.xlabel('Estimated Age (based on graduation at 21)')"
   ]
  },
  {
   "cell_type": "code",
   "execution_count": 10,
   "metadata": {},
   "outputs": [
    {
     "data": {
      "text/plain": [
       "Text(0.5, 0, 'Graduation Year')"
      ]
     },
     "execution_count": 10,
     "metadata": {},
     "output_type": "execute_result"
    },
    {
     "data": {
      "image/png": "[encoded data removed]",
      "text/plain": [
       "<Figure size 432x288 with 1 Axes>"
      ]
     },
     "metadata": {
      "needs_background": "light"
     },
     "output_type": "display_data"
    }
   ],
   "source": [
    "# Bin total dollars spent on tickets\n",
    "BIN_SIZE = 10\n",
    "\n",
    "rev_per_bin = defaultdict(int)\n",
    "\n",
    "current_bin = 1940\n",
    "\n",
    "# rev_per_bin[1940] represents all tickets sold from 1940 to (1940 + BIN_SIZE)\n",
    "for year in range(1940, 2020):\n",
    "    rev_per_bin[current_bin] += rev_per_year[year]\n",
    "    if year > current_bin:\n",
    "        current_bin += BIN_SIZE\n",
    "        \n",
    "\n",
    "years = list(rev_per_bin.keys())\n",
    "values = list(rev_per_bin.values())\n",
    "\n",
    "plt.bar(years, values, align='edge', width=BIN_SIZE, edgecolor='black')\n",
    "plt.title(f'Dollars Spent on Tickets by Alumni Graduation Year (Bin Size={BIN_SIZE})')\n",
    "plt.ylabel('Total Dollar Value of Tickets Sold')\n",
    "plt.xlabel('Graduation Year')"
   ]
  },
  {
   "cell_type": "code",
   "execution_count": 11,
   "metadata": {},
   "outputs": [
    {
     "data": {
      "text/plain": [
       "Text(0.5, 0, 'Estimated Age (based on graduation at 21)')"
      ]
     },
     "execution_count": 11,
     "metadata": {},
     "output_type": "execute_result"
    },
    {
     "data": {
      "image/png": "[encoded data removed]",
      "text/plain": [
       "<Figure size 432x288 with 1 Axes>"
      ]
     },
     "metadata": {
      "needs_background": "light"
     },
     "output_type": "display_data"
    }
   ],
   "source": [
    "rev_per_bin_age = defaultdict(int)\n",
    "\n",
    "current_bin = 20\n",
    "\n",
    "# rev_per_bin[20] represents all tickets sold to alumni age 20 to (20 + BIN_SIZE)\n",
    "for year in range(2020, 1940, -1):\n",
    "    age = (2020 - (year - AGE_OF_GRAD))\n",
    "    rev_per_bin_age[current_bin] += rev_per_year[year]\n",
    "    if age > current_bin:\n",
    "        current_bin += BIN_SIZE\n",
    "\n",
    "\n",
    "ages = list(rev_per_bin_age.keys())\n",
    "values = list(rev_per_bin_age.values())\n",
    "\n",
    "plt.bar(ages, values, align='edge', width=BIN_SIZE, edgecolor='black')\n",
    "plt.title(f'Dollars Alumni Spent on Tickets by Age (Bin Size={BIN_SIZE})')\n",
    "plt.ylabel('Total Dollar Value of Tickets Sold')\n",
    "plt.xlabel('Estimated Age (based on graduation at 21)')"
   ]
  },
  {
   "cell_type": "code",
   "execution_count": null,
   "metadata": {},
   "outputs": [],
   "source": []
  }
 ],
 "metadata": {
  "kernelspec": {
   "display_name": "Python 3",
   "language": "python",
   "name": "python3"
  },
  "language_info": {
   "codemirror_mode": {
    "name": "ipython",
    "version": 3
   },
   "file_extension": ".py",
   "mimetype": "text/x-python",
   "name": "python",
   "nbconvert_exporter": "python",
   "pygments_lexer": "ipython3",
   "version": "3.7.5"
  },
  "toc": {
   "base_numbering": 1,
   "nav_menu": {},
   "number_sections": true,
   "sideBar": true,
   "skip_h1_title": false,
   "title_cell": "Table of Contents",
   "title_sidebar": "Contents",
   "toc_cell": false,
   "toc_position": {},
   "toc_section_display": true,
   "toc_window_display": false
  }
 },
 "nbformat": 4,
 "nbformat_minor": 2
}
