{
 "cells": [
  {
   "cell_type": "code",
   "execution_count": 23,
   "metadata": {},
   "outputs": [
    {
     "data": {
      "text/html": [
       "<div>\n",
       "<style scoped>\n",
       "    .dataframe tbody tr th:only-of-type {\n",
       "        vertical-align: middle;\n",
       "    }\n",
       "\n",
       "    .dataframe tbody tr th {\n",
       "        vertical-align: top;\n",
       "    }\n",
       "\n",
       "    .dataframe thead th {\n",
       "        text-align: right;\n",
       "    }\n",
       "</style>\n",
       "<table border=\"1\" class=\"dataframe\">\n",
       "  <thead>\n",
       "    <tr style=\"text-align: right;\">\n",
       "      <th></th>\n",
       "      <th>ID Value</th>\n",
       "      <th>Item</th>\n",
       "      <th>Qty</th>\n",
       "      <th>PL</th>\n",
       "      <th>PT</th>\n",
       "      <th>I Disp</th>\n",
       "      <th>Seatblock</th>\n",
       "      <th>Priority Points</th>\n",
       "      <th>Item Cost</th>\n",
       "      <th>Csz</th>\n",
       "      <th>...</th>\n",
       "      <th>Item Name</th>\n",
       "      <th>Degree</th>\n",
       "      <th>ID Type</th>\n",
       "      <th>Primary Degree Institution</th>\n",
       "      <th>Primary Degree Class Year</th>\n",
       "      <th>Primary Degree Education College</th>\n",
       "      <th>Primary Degree Education Status</th>\n",
       "      <th>Primary Address Country</th>\n",
       "      <th>Primary Address State</th>\n",
       "      <th>Primary Address Zip Code</th>\n",
       "    </tr>\n",
       "  </thead>\n",
       "  <tbody>\n",
       "    <tr>\n",
       "      <th>0</th>\n",
       "      <td>122853</td>\n",
       "      <td>F10</td>\n",
       "      <td>1</td>\n",
       "      <td>1</td>\n",
       "      <td>SHP</td>\n",
       "      <td>E (Email)</td>\n",
       "      <td>1:23:43:3,3</td>\n",
       "      <td>999.13</td>\n",
       "      <td>75.29</td>\n",
       "      <td>Frisco, TX  75034</td>\n",
       "      <td>...</td>\n",
       "      <td>Michigan State</td>\n",
       "      <td>B.S.E.(E.E.) 1966 College of Engineering</td>\n",
       "      <td>Athletics Ticket ID</td>\n",
       "      <td>University of Michigan - Ann Arbor</td>\n",
       "      <td>1966.0</td>\n",
       "      <td>College of Engineering</td>\n",
       "      <td>Graduated</td>\n",
       "      <td>United States</td>\n",
       "      <td>Texas</td>\n",
       "      <td>75034</td>\n",
       "    </tr>\n",
       "    <tr>\n",
       "      <th>1</th>\n",
       "      <td>26314</td>\n",
       "      <td>F08</td>\n",
       "      <td>2</td>\n",
       "      <td>5</td>\n",
       "      <td>PD</td>\n",
       "      <td>M (Mail)</td>\n",
       "      <td>1:15:33:6,5</td>\n",
       "      <td>998.13</td>\n",
       "      <td>290.00</td>\n",
       "      <td>Saint Joseph, MI  49085</td>\n",
       "      <td>...</td>\n",
       "      <td>Notre Dame</td>\n",
       "      <td>Attended 1959 College of Lit, Science &amp; Arts; ...</td>\n",
       "      <td>Athletics Ticket ID</td>\n",
       "      <td>University of Michigan - Ann Arbor</td>\n",
       "      <td>1964.0</td>\n",
       "      <td>Law School</td>\n",
       "      <td>Graduated</td>\n",
       "      <td>United States</td>\n",
       "      <td>Michigan</td>\n",
       "      <td>49085</td>\n",
       "    </tr>\n",
       "    <tr>\n",
       "      <th>2</th>\n",
       "      <td>433040</td>\n",
       "      <td>F05</td>\n",
       "      <td>3</td>\n",
       "      <td>9</td>\n",
       "      <td>TP</td>\n",
       "      <td>MD (Mobile Delivery)</td>\n",
       "      <td>1:311E:8:13,11</td>\n",
       "      <td>997.48</td>\n",
       "      <td>225.87</td>\n",
       "      <td>Wilmington, DE  19807</td>\n",
       "      <td>...</td>\n",
       "      <td>Iowa</td>\n",
       "      <td>A.B. 1984 College of Lit, Science &amp; Arts</td>\n",
       "      <td>Athletics Ticket ID</td>\n",
       "      <td>University of Michigan - Ann Arbor</td>\n",
       "      <td>1984.0</td>\n",
       "      <td>College of Lit, Science &amp; Arts</td>\n",
       "      <td>Graduated</td>\n",
       "      <td>United States</td>\n",
       "      <td>Delaware</td>\n",
       "      <td>19807</td>\n",
       "    </tr>\n",
       "    <tr>\n",
       "      <th>3</th>\n",
       "      <td>433040</td>\n",
       "      <td>F12</td>\n",
       "      <td>2</td>\n",
       "      <td>9</td>\n",
       "      <td>TP</td>\n",
       "      <td>MD (Mobile Delivery)</td>\n",
       "      <td>1:311E:8:13,12</td>\n",
       "      <td>997.48</td>\n",
       "      <td>150.52</td>\n",
       "      <td>Wilmington, DE  19807</td>\n",
       "      <td>...</td>\n",
       "      <td>Ohio State</td>\n",
       "      <td>A.B. 1984 College of Lit, Science &amp; Arts</td>\n",
       "      <td>Athletics Ticket ID</td>\n",
       "      <td>University of Michigan - Ann Arbor</td>\n",
       "      <td>1984.0</td>\n",
       "      <td>College of Lit, Science &amp; Arts</td>\n",
       "      <td>Graduated</td>\n",
       "      <td>United States</td>\n",
       "      <td>Delaware</td>\n",
       "      <td>19807</td>\n",
       "    </tr>\n",
       "    <tr>\n",
       "      <th>4</th>\n",
       "      <td>57747</td>\n",
       "      <td>F10</td>\n",
       "      <td>4</td>\n",
       "      <td>5</td>\n",
       "      <td>PD</td>\n",
       "      <td>M (Mail)</td>\n",
       "      <td>1:35:93:24,21</td>\n",
       "      <td>994.83</td>\n",
       "      <td>604.00</td>\n",
       "      <td>Grosse Pointe Farms, MI  48236</td>\n",
       "      <td>...</td>\n",
       "      <td>Michigan State</td>\n",
       "      <td>A.B. 1978 College of Lit, Science &amp; Arts</td>\n",
       "      <td>Associated Athletics Ticket ID</td>\n",
       "      <td>University of Michigan - Ann Arbor</td>\n",
       "      <td>1978.0</td>\n",
       "      <td>College of Lit, Science &amp; Arts</td>\n",
       "      <td>Graduated</td>\n",
       "      <td>United States</td>\n",
       "      <td>Michigan</td>\n",
       "      <td>48236</td>\n",
       "    </tr>\n",
       "  </tbody>\n",
       "</table>\n",
       "<p>5 rows × 21 columns</p>\n",
       "</div>"
      ],
      "text/plain": [
       "   ID Value Item Qty  PL   PT                I Disp       Seatblock  \\\n",
       "0    122853  F10   1   1  SHP             E (Email)     1:23:43:3,3   \n",
       "1     26314  F08   2   5   PD              M (Mail)     1:15:33:6,5   \n",
       "2    433040  F05   3   9   TP  MD (Mobile Delivery)  1:311E:8:13,11   \n",
       "3    433040  F12   2   9   TP  MD (Mobile Delivery)  1:311E:8:13,12   \n",
       "4     57747  F10   4   5   PD              M (Mail)   1:35:93:24,21   \n",
       "\n",
       "   Priority Points  Item Cost                            Csz   ...  \\\n",
       "0           999.13      75.29               Frisco, TX  75034  ...   \n",
       "1           998.13     290.00         Saint Joseph, MI  49085  ...   \n",
       "2           997.48     225.87           Wilmington, DE  19807  ...   \n",
       "3           997.48     150.52           Wilmington, DE  19807  ...   \n",
       "4           994.83     604.00  Grosse Pointe Farms, MI  48236  ...   \n",
       "\n",
       "        Item Name                                             Degree  \\\n",
       "0  Michigan State           B.S.E.(E.E.) 1966 College of Engineering   \n",
       "1      Notre Dame  Attended 1959 College of Lit, Science & Arts; ...   \n",
       "2            Iowa           A.B. 1984 College of Lit, Science & Arts   \n",
       "3      Ohio State           A.B. 1984 College of Lit, Science & Arts   \n",
       "4  Michigan State           A.B. 1978 College of Lit, Science & Arts   \n",
       "\n",
       "                          ID Type          Primary Degree Institution  \\\n",
       "0             Athletics Ticket ID  University of Michigan - Ann Arbor   \n",
       "1             Athletics Ticket ID  University of Michigan - Ann Arbor   \n",
       "2             Athletics Ticket ID  University of Michigan - Ann Arbor   \n",
       "3             Athletics Ticket ID  University of Michigan - Ann Arbor   \n",
       "4  Associated Athletics Ticket ID  University of Michigan - Ann Arbor   \n",
       "\n",
       "  Primary Degree Class Year  Primary Degree Education College  \\\n",
       "0                    1966.0            College of Engineering   \n",
       "1                    1964.0                        Law School   \n",
       "2                    1984.0    College of Lit, Science & Arts   \n",
       "3                    1984.0    College of Lit, Science & Arts   \n",
       "4                    1978.0    College of Lit, Science & Arts   \n",
       "\n",
       "  Primary Degree Education Status Primary Address Country  \\\n",
       "0                       Graduated           United States   \n",
       "1                       Graduated           United States   \n",
       "2                       Graduated           United States   \n",
       "3                       Graduated           United States   \n",
       "4                       Graduated           United States   \n",
       "\n",
       "  Primary Address State Primary Address Zip Code  \n",
       "0                 Texas                    75034  \n",
       "1              Michigan                    49085  \n",
       "2              Delaware                    19807  \n",
       "3              Delaware                    19807  \n",
       "4              Michigan                    48236  \n",
       "\n",
       "[5 rows x 21 columns]"
      ]
     },
     "execution_count": 23,
     "metadata": {},
     "output_type": "execute_result"
    }
   ],
   "source": [
    "import pandas as pd\n",
    "import numpy as np\n",
    "\n",
    "f19_sales = pd.read_csv('../data/F19Sales.csv')\n",
    "sales = f19_sales\n",
    "sales.rename(columns = {'Customer ID':'ID Value'}, inplace = True)\n",
    "\n",
    "alum = pd.read_csv('../data/AlumniReport.csv')\n",
    "\n",
    "merge = pd.merge(left=sales, right=alum, on=['ID Value'])\n",
    "\n",
    "merge.head()"
   ]
  },
  {
   "cell_type": "code",
   "execution_count": 22,
   "metadata": {},
   "outputs": [
    {
     "data": {
      "text/plain": [
       "207092"
      ]
     },
     "execution_count": 22,
     "metadata": {},
     "output_type": "execute_result"
    }
   ],
   "source": [
    "total_tickets_sold = 0\n",
    "for qty in sales['Qty']:\n",
    "    qty = qty.replace(',', '')\n",
    "    total_tickets_sold += int(qty)\n",
    "\n",
    "# Total number of tickets sold\n",
    "total_tickets_sold"
   ]
  },
  {
   "cell_type": "code",
   "execution_count": 27,
   "metadata": {},
   "outputs": [
    {
     "data": {
      "text/plain": [
       "22507"
      ]
     },
     "execution_count": 27,
     "metadata": {},
     "output_type": "execute_result"
    }
   ],
   "source": [
    "# Find a alum grad. year for every ticket sold\n",
    "sales_graduation_years = []\n",
    "for i, year in enumerate(merge['Primary Degree Class Year']):\n",
    "    for _ in range(int(merge['Qty'][i])):\n",
    "        sales_graduation_years.append(int(year))\n",
    "\n",
    "# Number of alum tickets sold\n",
    "len(sales_graduation_years)"
   ]
  },
  {
   "cell_type": "code",
   "execution_count": 47,
   "metadata": {
    "scrolled": true
   },
   "outputs": [
    {
     "data": {
      "text/plain": [
       "Text(0.5, 0, 'Graduation Year')"
      ]
     },
     "execution_count": 47,
     "metadata": {},
     "output_type": "execute_result"
    },
    {
     "data": {
      "image/png": "[encoded data removed]",
      "text/plain": [
       "<Figure size 432x288 with 1 Axes>"
      ]
     },
     "metadata": {
      "needs_background": "light"
     },
     "output_type": "display_data"
    }
   ],
   "source": [
    "import matplotlib.pyplot as plt\n",
    "\n",
    "# Remove the one 0??\n",
    "while np.min(sales_graduation_years) == 0:\n",
    "    sales_graduation_years.remove(0)\n",
    "\n",
    "bins = np.arange(1940,2020,5)\n",
    "\n",
    "# Look at alum that bought tickets based on grad year\n",
    "plt.hist(x=sales_graduation_years,bins=bins)\n",
    "plt.title('Alumni that Bought Tickets')\n",
    "plt.ylabel('Ticket Sales Quantity')\n",
    "plt.xlabel('Graduation Year')\n",
    "# plt.axis([1800, 2020, 0, 20000])"
   ]
  },
  {
   "cell_type": "code",
   "execution_count": 52,
   "metadata": {},
   "outputs": [
    {
     "data": {
      "text/plain": [
       "Text(0.5, 0, 'Estimated Age (based on graduation at 21)')"
      ]
     },
     "execution_count": 52,
     "metadata": {},
     "output_type": "execute_result"
    },
    {
     "data": {
      "image/png": "[encoded data removed]",
      "text/plain": [
       "<Figure size 432x288 with 1 Axes>"
      ]
     },
     "metadata": {
      "needs_background": "light"
     },
     "output_type": "display_data"
    }
   ],
   "source": [
    "# Estimate ages\n",
    "\n",
    "bins = np.arange(20, 80, 5)\n",
    "ages = []\n",
    "for year in sales_graduation_years:\n",
    "    ages.append(2020 - (year - 21))\n",
    "\n",
    "plt.hist(x=ages,bins=bins)\n",
    "plt.title('Alumni that Bought Tickets')\n",
    "plt.ylabel('Ticket Sales Quantity')\n",
    "plt.xlabel('Estimated Age (based on graduation at 21)')\n"
   ]
  }
 ],
 "metadata": {
  "kernelspec": {
   "display_name": "Python 3",
   "language": "python",
   "name": "python3"
  },
  "language_info": {
   "codemirror_mode": {
    "name": "ipython",
    "version": 3
   },
   "file_extension": ".py",
   "mimetype": "text/x-python",
   "name": "python",
   "nbconvert_exporter": "python",
   "pygments_lexer": "ipython3",
   "version": "3.7.5"
  },
  "toc": {
   "base_numbering": 1,
   "nav_menu": {},
   "number_sections": true,
   "sideBar": true,
   "skip_h1_title": false,
   "title_cell": "Table of Contents",
   "title_sidebar": "Contents",
   "toc_cell": false,
   "toc_position": {},
   "toc_section_display": true,
   "toc_window_display": false
  }
 },
 "nbformat": 4,
 "nbformat_minor": 2
}
